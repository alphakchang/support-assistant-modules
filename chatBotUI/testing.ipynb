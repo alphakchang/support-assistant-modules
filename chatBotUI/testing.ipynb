{
 "cells": [
  {
   "cell_type": "code",
   "execution_count": 1,
   "metadata": {},
   "outputs": [
    {
     "name": "stdout",
     "output_type": "stream",
     "text": [
      "Concatenated String:  firstsecondsecondfirst\n",
      "Dictionary:  {0: (0, 5), 1: (5, 11), 2: (11, 17), 3: (17, 22)}\n"
     ]
    }
   ],
   "source": [
    "# list of string\n",
    "list_of_strings = ['first', 'second', 'second', 'first']\n",
    "\n",
    "# dictionary to store the range of each string in the concatenated string\n",
    "range_string_dict = {}\n",
    "\n",
    "# concatenate the strings and store their range\n",
    "concatenated_string = ''\n",
    "for index, item in enumerate(list_of_strings):\n",
    "    start_index = len(concatenated_string)\n",
    "    concatenated_string += item\n",
    "    end_index = len(concatenated_string)\n",
    "    range_string_dict[index] = (start_index, end_index)\n",
    "\n",
    "print(\"Concatenated String: \", concatenated_string)\n",
    "print(\"Dictionary: \", range_string_dict)"
   ]
  },
  {
   "cell_type": "code",
   "execution_count": 2,
   "metadata": {},
   "outputs": [
    {
     "name": "stdout",
     "output_type": "stream",
     "text": [
      "The substring \"cond\" is part of the strings at indices [1, 2] in the original list.\n"
     ]
    }
   ],
   "source": [
    "def find_indices_of_substring(concatenated_string, range_string_dict, substring):\n",
    "    indices = []\n",
    "    start_index = 0\n",
    "    while start_index < len(concatenated_string):\n",
    "        start_index = concatenated_string.find(substring, start_index)\n",
    "        if start_index == -1:\n",
    "            break\n",
    "        else:\n",
    "            for index, range in range_string_dict.items():\n",
    "                if start_index >= range[0] and start_index < range[1]:\n",
    "                    indices.append(index)\n",
    "                    break\n",
    "            start_index += 1\n",
    "    return indices\n",
    "\n",
    "substring = 'cond'\n",
    "indices = find_indices_of_substring(concatenated_string, range_string_dict, substring)\n",
    "print(f'The substring \"{substring}\" is part of the strings at indices {indices} in the original list.')"
   ]
  },
  {
   "cell_type": "code",
   "execution_count": 4,
   "metadata": {},
   "outputs": [
    {
     "name": "stdout",
     "output_type": "stream",
     "text": [
      "Concatenated Tags:  ['empty temp folder', 'memoQ stopped working', \"can't open project\", \"can't open memoQ\"]['The order of inline tags is incorrect', 'overlapping tags', 'Check for overlapping paired tags', 'inline tags', 'memoQ tags', 'QA tags']['tag issues', 'memoQ tags', 'tag error', 'tag errors', 'QA tags', 'tag view', 'tags view', 'tag issue', 'tags issues'][\"can't save to TM\", \"can't save to TB\", 'corrupted TM', \"can't save segments\", \"can't save segment\", 'lightning', 'lightning icon', 'repair resource', 'no working TM', 'no WIP', '', '', ''][\"can't edit TM\", \"can't edit TB\", 'TM is not editable', 'TB is not editable', 'implement changes in TM', 'changes in TM', 'global changes in TM'][][\"can't export\", 'export issue', 'export issues', \"can't export file\", \"file doesn't export\", 'issue exporting a file', 'issue exporting files', 'failed to export', 'fails to export']['license issue', 'license issues', 'problem with license', 'license', 'memoQ license', \"can't get a license\"][\"linguists can't get a new license\", \"linguists can't update license\", 'no ELM license', \"can't claim a license in memoQ\", \"vendor can't get a license\", 'No license received from the ELM server', 'ELM license'][\"can't sync\", 'unable to sync', \"can't sync project\", 'sync issue', 'sync memoQ', 'synchronisation issue', 'synchronisation', \"can't synchronise\", 'sync problem'][\"can't check out project\", \"can't check out a project\", 'project checkout', 'check out project', 'check out memoQ project', 'fails to check out a project', \"linguist can't check out\"][]['Incorrectly paired inline tags', 'export tag error', \"can't export\", 'memoQ tag error', 'cannot export file'][\"can't open memoQ project\", \"can't open project\", 'timeout issue', 'timeout problem', 'memoQ timeout', 'memoQ time out', 'project time out']['corrupted memoQ project', 'corrupted project in memoQ', 'corrupted project', 'open corrupted project', 'project corrupted']['restore version file', 'restore a file', 'restore version', 'earlier version of file', 'earlier version of a file', 'older file version', 'file version']['import issue', 'import problem', \"can't import file\", \"can't import file in memoQ\", 'issue importing in memoQ', 'fails to import', 'fail to import file']['Reassign a file to single user after FA', 'reassign a file to single user after First-Accept', 'reassign FA', 'reassign first accept']['WS package is poorly segmented', 'world server package poorly segmented', 'WorldServer package poorly segmented', 'WS package segmentation']['red x error', 'X error', 'Internal application error', 'System.Drawing or System.Windows.Forms', 'big red X', 'memoQ layout error']['font display error', 'font display issue', \"can't see translation font\", \"can't see Hindi in memoQ\", 'memoQ font issue'][\"can't reimport MQXLZ\", \"can't update from MQXLZ\", 'MQXLZ issue', 'MQXLZ problem', 'cannot update from MQXLZ', 'cannot reimport MQXLZ']['corrupted memoQ project', 'memoQ project corrupted', \"can't open memoQ project\", 'cannot open memoQ project'][\"can't run analysis in memoQ\", 'memoQ analysis issue', 'error running memoQ analysis', 'error running analysis in memoQ', 'memoQ analysis error']['activator version mismatch', 'memoQ activator version mismatch', 'MemoQ.Activator.ActivatorException'][\"can't open memoQ project\", \"memeQ doesn't load project\", 'memoQ project display issue'][\"can't import pptx file\", \"can't import PowerPoint file\", \"can't import power point file\", 'fails to import power point file', 'powerpoint file import error', 'memoQ cannot access the file']['spell-check', 'spelling', 'Word', 'MS Word']\n",
      "Dictionary:  {0: (0, 88), 1: (88, 226), 2: (226, 345), 3: (345, 535), 4: (535, 681), 5: (681, 683), 6: (683, 866), 7: (866, 976), 8: (976, 1187), 9: (1187, 1350), 10: (1350, 1534), 11: (1534, 1536), 12: (1536, 1647), 13: (1647, 1788), 14: (1788, 1913), 15: (1913, 2068), 16: (2068, 2223), 17: (2223, 2359), 18: (2359, 2501), 19: (2501, 2634), 20: (2634, 2756), 21: (2756, 2892), 22: (2892, 3003), 23: (3003, 3149), 24: (3149, 3253), 25: (3253, 3342), 26: (3342, 3533), 27: (3533, 3579)}\n"
     ]
    }
   ],
   "source": [
    "import pandas as pd\n",
    "database = pd.read_csv(\"./database/moodle.csv\")\n",
    "tags = database[\"Tags\"]\n",
    "tags_list = tags.tolist()\n",
    "concatenated_tags = ''\n",
    "range_string_dict = {}\n",
    "\n",
    "for index, item in enumerate(tags_list):\n",
    "    start_index = len(concatenated_tags)\n",
    "    concatenated_tags += item\n",
    "    end_index = len(concatenated_tags)\n",
    "    range_string_dict[index] = (start_index, end_index)\n",
    "\n",
    "print(\"Concatenated Tags: \", concatenated_tags)\n",
    "print(\"Dictionary: \", range_string_dict)"
   ]
  },
  {
   "cell_type": "code",
   "execution_count": 11,
   "metadata": {},
   "outputs": [
    {
     "name": "stdout",
     "output_type": "stream",
     "text": [
      "The substring \"fail to import file\" is part of the strings at indices {16} in the original list.\n"
     ]
    }
   ],
   "source": [
    "def find_indices_of_substring(concatenated_tags, range_string_dict, substring):\n",
    "    indices = []\n",
    "    start_index = 0\n",
    "    while start_index < len(concatenated_tags):\n",
    "        start_index = concatenated_tags.find(substring, start_index)\n",
    "        if start_index == -1:\n",
    "            break\n",
    "        else:\n",
    "            for index, range in range_string_dict.items():\n",
    "                if start_index >= range[0] and start_index < range[1]:\n",
    "                    indices.append(index)\n",
    "                    break\n",
    "            start_index += 1\n",
    "    indices_set = set(indices)\n",
    "    return indices_set\n",
    "\n",
    "substring = \"memoQ doesn't open\"\n",
    "indices = find_indices_of_substring(concatenated_tags, range_string_dict, substring)\n",
    "print(f'The substring \"{substring}\" is part of the strings at indices {indices} in the original list.')"
   ]
  },
  {
   "cell_type": "code",
   "execution_count": 1,
   "metadata": {},
   "outputs": [],
   "source": [
    "def create_trimmed_list(matched):\n",
    "    matched_trim = matched.replace('\"', '')\n",
    "    matched_trim = matched_trim.strip('[]')\n",
    "    trimmed_list = matched_trim.split(',')\n",
    "    trimmed_list = [item.strip() for item in trimmed_list]\n",
    "    return trimmed_list"
   ]
  },
  {
   "cell_type": "code",
   "execution_count": 2,
   "metadata": {},
   "outputs": [],
   "source": [
    "def find_indices_of_trimmed_list(concatenated_tags, range_string_dict, trimmed_list):\n",
    "    indices = []\n",
    "    for item in trimmed_list:\n",
    "        start_index = 0\n",
    "        while start_index < len(concatenated_tags):\n",
    "            start_index = concatenated_tags.find(item, start_index)\n",
    "            if start_index == -1:\n",
    "                break\n",
    "            else:\n",
    "                for index, range in range_string_dict.items():\n",
    "                    if start_index >= range[0] and start_index < range[1]:\n",
    "                        indices.append(index)\n",
    "                        break\n",
    "                start_index += 1\n",
    "    indices_set = set(indices)\n",
    "    return indices_set"
   ]
  },
  {
   "cell_type": "code",
   "execution_count": 6,
   "metadata": {},
   "outputs": [],
   "source": [
    "response = \"['timeout issue', 'timeout problem', 'memoQ timeout', 'memoQ time out', 'project time out']\"\n",
    "trimmed_list = create_trimmed_list(response)"
   ]
  },
  {
   "cell_type": "code",
   "execution_count": 7,
   "metadata": {},
   "outputs": [
    {
     "data": {
      "text/plain": [
       "['http://moodle.alphacrc.com:5081/mod/book/view.php?id=708&chapterid=733']"
      ]
     },
     "execution_count": 7,
     "metadata": {},
     "output_type": "execute_result"
    }
   ],
   "source": [
    "indices = find_indices_of_trimmed_list(concatenated_tags, range_string_dict, trimmed_list)\n",
    "reply = []\n",
    "for i in indices:\n",
    "    reply.append(database[\"URL\"][i])\n",
    "reply"
   ]
  },
  {
   "cell_type": "code",
   "execution_count": null,
   "metadata": {},
   "outputs": [],
   "source": []
  }
 ],
 "metadata": {
  "kernelspec": {
   "display_name": "venv",
   "language": "python",
   "name": "python3"
  },
  "language_info": {
   "codemirror_mode": {
    "name": "ipython",
    "version": 3
   },
   "file_extension": ".py",
   "mimetype": "text/x-python",
   "name": "python",
   "nbconvert_exporter": "python",
   "pygments_lexer": "ipython3",
   "version": "3.11.1"
  },
  "orig_nbformat": 4
 },
 "nbformat": 4,
 "nbformat_minor": 2
}
