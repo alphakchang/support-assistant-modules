{
 "cells": [
  {
   "cell_type": "code",
   "execution_count": 13,
   "metadata": {},
   "outputs": [],
   "source": [
    "from selenium import webdriver\n",
    "from selenium.webdriver.firefox.options import Options\n",
    "from selenium.webdriver.common.by import By\n",
    "from selenium.webdriver.support.select import Select\n",
    "from selenium.webdriver.support.ui import WebDriverWait\n",
    "from selenium.webdriver.support import expected_conditions as EC"
   ]
  },
  {
   "cell_type": "code",
   "execution_count": 52,
   "metadata": {},
   "outputs": [],
   "source": [
    "options = Options()\n",
    "# options.add_argument(\"-headless\")\n",
    "driver = webdriver.Chrome(options=options)\n",
    "driver.get(\"https://support.alphacrc.com:9676/portal/page/116-hr\")"
   ]
  },
  {
   "cell_type": "code",
   "execution_count": 53,
   "metadata": {},
   "outputs": [],
   "source": [
    "email = \"kchang@thisisalpha.com\"\n",
    "driver.find_element(By.XPATH, \"//input[@label='Email:']\").send_keys(email)\n",
    "driver.find_element(By.XPATH, \"//button[@data-button-type='submit']\").click()"
   ]
  },
  {
   "cell_type": "code",
   "execution_count": 54,
   "metadata": {},
   "outputs": [],
   "source": [
    "# Select the first dropdown menu\n",
    "# ticket_types = driver.find_element(By.CSS_SELECTOR, \"select#custom_ticket_form_field_125\")\n",
    "ticket_types = WebDriverWait(driver, 10).until(\n",
    "        EC.presence_of_element_located((By.CSS_SELECTOR, \"select#custom_ticket_form_field_125\"))\n",
    "    )\n",
    "selectedType = Select(ticket_types)\n",
    "selectedType.select_by_index(1)"
   ]
  },
  {
   "cell_type": "code",
   "execution_count": 50,
   "metadata": {},
   "outputs": [
    {
     "name": "stdout",
     "output_type": "stream",
     "text": [
      "\n",
      "Starter\n",
      "Leaver\n",
      "Change department\n",
      "Office Management\n",
      "Linguistic Quality Issues\n",
      "Ideas\n"
     ]
    }
   ],
   "source": [
    "# just testing, don't need to run\n",
    "for items in selectedType.options:\n",
    "    print(items.text)"
   ]
  },
  {
   "cell_type": "code",
   "execution_count": 60,
   "metadata": {},
   "outputs": [],
   "source": [
    "driver.find_element(By.XPATH, \"//input[@id='custom_ticket_form_field_202']\").send_keys(\"John Doe\")\n",
    "driver.find_element(By.XPATH, \"//input[@id='custom_ticket_form_field_203']\").send_keys(\"Cambridge\")\n",
    "strategic_groups = driver.find_element(By.CSS_SELECTOR, \"select#custom_ticket_form_field_204\")\n",
    "selectedGroup = Select(strategic_groups)\n",
    "selectedGroup.select_by_index(1)\n",
    "driver.find_element(By.XPATH, \"//input[@id='custom_ticket_form_field_240']\").send_keys(\"n/a\")\n",
    "driver.find_element(By.XPATH, \"//input[@id='custom_ticket_form_field_126']\").send_keys(\"summary\")\n",
    "driver.find_element(By.XPATH, \"//textarea[@id='custom_ticket_form_field_127']\").send_keys(\"description\")\n",
    "driver.find_element(By.XPATH, \"//input[@id='custom_ticket_form_field_129_custom_ticket_form_field_129_date']\").send_keys(\"18-07-2023\")"
   ]
  },
  {
   "cell_type": "code",
   "execution_count": null,
   "metadata": {},
   "outputs": [],
   "source": []
  },
  {
   "cell_type": "code",
   "execution_count": 61,
   "metadata": {},
   "outputs": [],
   "source": [
    "driver.quit()"
   ]
  },
  {
   "cell_type": "code",
   "execution_count": 6,
   "metadata": {},
   "outputs": [
    {
     "name": "stdout",
     "output_type": "stream",
     "text": [
      "leaver\n"
     ]
    }
   ],
   "source": [
    "def hr_type_list():\n",
    "    return [\"\", \"Starter\", \"Leaver\", \"Change department\", \"Office management\", \"Linguistic quality issues\", \"Ideas\"]\n",
    "\n",
    "# item = hr_type_list()\n",
    "\n",
    "print(hr_type_list()[2].lower())"
   ]
  },
  {
   "cell_type": "code",
   "execution_count": 1,
   "metadata": {},
   "outputs": [],
   "source": [
    "def create_email(list):\n",
    "    username = str(list[0])\n",
    "    email_address = username + \"@alphacrc.com\"\n",
    "    return email_address"
   ]
  },
  {
   "cell_type": "code",
   "execution_count": 2,
   "metadata": {},
   "outputs": [
    {
     "data": {
      "text/plain": [
       "'kchang@alphacrc.com'"
      ]
     },
     "execution_count": 2,
     "metadata": {},
     "output_type": "execute_result"
    }
   ],
   "source": [
    "list = ['kchang', 2, 'ken chang', 'cambridge', 6, 'pmall', 'n', 'tw', '01-01-2022', '2 days paid', 'additional info']\n",
    "ea = create_email(list)\n",
    "ea"
   ]
  },
  {
   "cell_type": "code",
   "execution_count": 8,
   "metadata": {},
   "outputs": [],
   "source": [
    "def hrList_ticketTypes():\n",
    "    return [\"Starter\", \"Leaver\", \"Change department\", \"Office management\", \"Linguistic quality issues\", \"Ideas\"]\n",
    "\n",
    "def create_summary(list):\n",
    "    summary = hrList_ticketTypes()[list[1]-1] + \" - \" + list[2].title() + \" - \" + list[8] + \" - \" + list[6].upper() + \" - \" + list[3].capitalize()\n",
    "    return summary"
   ]
  },
  {
   "cell_type": "code",
   "execution_count": 32,
   "metadata": {},
   "outputs": [],
   "source": [
    "def create_email(list):\n",
    "    username = str(list[0])\n",
    "    email_address = username + \"@thisisalpha.com\"\n",
    "    return email_address\n",
    "\n",
    "def create_summary(list):\n",
    "    summary = \"<AI TESTING TICKET, PLEASE IGNORE>: \" + hrList_ticketTypes()[list[1]-1] + \" - \" + list[2].title() + \" - \" + list[8] + \" - \" + list[6].upper() + \" - \" + list[3].capitalize()\n",
    "    return summary\n",
    "\n",
    "def create_description(list):\n",
    "    greeting = \"Hello, this is a ticket for - \" + hrList_ticketTypes()[list[1]-1] + \"\\n\\n\"\n",
    "    fullname = \"Full name: \" + list[2].title() + \"\\n\"\n",
    "    centre = \"Cost Centre: \" + list[6].upper() + \"\\n\"\n",
    "    department = \"Department: \" + list[7].upper() + \"\\n\"\n",
    "    office = \"Office: \" + list[3].capitalize() + \"\\n\"\n",
    "    date = \"Effective Date: \" + list[8] + \"\\n\\n\"\n",
    "\n",
    "    if list[1] == 1: # Starter\n",
    "        notes = \"Note:\\nPlease setup the following:\\nAlpha computer\\nAlpha email account\\nTWeb\\nMoodle\\n\\n\"\n",
    "        additional = \"Additional Info:\\n\" + list[9] + \"\\n\"\n",
    "\n",
    "    elif list[1] == 2: # Leaver\n",
    "        notes = \"Holiday arrangement:\\n\" + list[9] + \"\\n\\n\"\n",
    "        additional = \"Additional Info:\\n\" + list[10] + \"\\n\"\n",
    "    \n",
    "    else:\n",
    "        notes = \"\"\n",
    "        additional = \"Additional Info:\\n\" + list[9] + \"\\n\"\n",
    "\n",
    "    description = greeting + fullname + centre + department + office + date + notes + additional\n",
    "\n",
    "    return description"
   ]
  },
  {
   "cell_type": "code",
   "execution_count": 22,
   "metadata": {},
   "outputs": [],
   "source": [
    "def create_description(list):\n",
    "    greeting = \"Hello, this is a ticket for - \" + hrList_ticketTypes()[list[1]-1] + \"\\n\\n\"\n",
    "    fullname = \"Full name: \" + list[2].title() + \"\\n\"\n",
    "    centre = \"Cost Centre: \" + list[6].upper() + \"\\n\"\n",
    "    department = \"Department: \" + list[7].upper() + \"\\n\"\n",
    "    office = \"Office: \" + list[3].capitalize() + \"\\n\"\n",
    "    date = \"Effective Date: \" + list[8] + \"\\n\\n\"\n",
    "\n",
    "    if list[1] == 1: # Starter\n",
    "        notes = \"Note:\\nPlease setup the following:\\nAlpha computer\\nAlpha email account\\nTWeb\\nMoodle\\n\\n\"\n",
    "        additional = \"Additional Info:\\n\" + list[9] + \"\\n\"\n",
    "\n",
    "    elif list[1] == 2: # Leaver\n",
    "        notes = \"Holiday arrangement:\\n\" + list[9] + \"\\n\\n\"\n",
    "        additional = \"Additional Info:\\n\" + list[10] + \"\\n\"\n",
    "    \n",
    "    else:\n",
    "        notes = \"\"\n",
    "        additional = \"Additional Info:\\n\" + list[9] + \"\\n\"\n",
    "\n",
    "    description = greeting + fullname + centre + department + office + date + notes + additional\n",
    "\n",
    "    return description"
   ]
  },
  {
   "cell_type": "code",
   "execution_count": 23,
   "metadata": {},
   "outputs": [
    {
     "name": "stdout",
     "output_type": "stream",
     "text": [
      "Hello, this is a ticket for - Leaver\n",
      "\n",
      "Full name: Ken Chang\n",
      "Cost Centre: N\n",
      "Department: TW\n",
      "Office: Cambridge\n",
      "Effective Date: 01-01-2022\n",
      "\n",
      "Holiday arrangement:\n",
      "2 days paid\n",
      "\n",
      "Additional Info:\n",
      "additional info\n",
      "\n"
     ]
    }
   ],
   "source": [
    "description = create_description(list)\n",
    "print(description)"
   ]
  },
  {
   "cell_type": "code",
   "execution_count": 30,
   "metadata": {},
   "outputs": [],
   "source": [
    "def create_hr_ticket(list):\n",
    "    # Open browser and get to HR ticket URL\n",
    "    options = Options()\n",
    "    # options.add_argument(\"-headless\")\n",
    "    driver = webdriver.Firefox(options=options)\n",
    "    driver.get(\"https://support.alphacrc.com:9676/portal/page/116-hr\")\n",
    "\n",
    "    # Login\n",
    "    email = create_email(list)\n",
    "    driver.find_element(By.XPATH, \"//input[@label='Email:']\").send_keys(email)\n",
    "    driver.find_element(By.XPATH, \"//button[@data-button-type='submit']\").click()\n",
    "\n",
    "    # Start filling out ticket\n",
    "    # 1. Ticket type\n",
    "    ticket_types = WebDriverWait(driver, 10).until(\n",
    "        EC.presence_of_element_located((By.XPATH, \"//select[@id='custom_ticket_form_field_125']\"))\n",
    "    )\n",
    "    selectedType = Select(ticket_types)\n",
    "    selectedType.select_by_index(list[1])\n",
    "\n",
    "    # 2. Full name\n",
    "    driver.find_element(By.XPATH, \"//input[@id='custom_ticket_form_field_202']\").send_keys(list[2].title())\n",
    "\n",
    "    # 3. Office\n",
    "    driver.find_element(By.XPATH, \"//input[@id='custom_ticket_form_field_203']\").send_keys(list[3].capitalize())\n",
    "\n",
    "    # 4. Strategic group\n",
    "    strategic_groups = driver.find_element(By.CSS_SELECTOR, \"select#custom_ticket_form_field_204\")\n",
    "    selectedGroup = Select(strategic_groups)\n",
    "    selectedGroup.select_by_index(list[4])\n",
    "\n",
    "    # 5. Mail aliaes\n",
    "    driver.find_element(By.XPATH, \"//input[@id='custom_ticket_form_field_240']\").send_keys(list[5])\n",
    "\n",
    "    # 6. Summary\n",
    "    summary = create_summary(list)\n",
    "    driver.find_element(By.XPATH, \"//input[@id='custom_ticket_form_field_126']\").send_keys(summary)\n",
    "\n",
    "    # 7. Description\n",
    "    description = create_description(list)\n",
    "    driver.find_element(By.XPATH, \"//textarea[@id='custom_ticket_form_field_127']\").send_keys(description)\n",
    "\n",
    "    # 8. Date\n",
    "    if list[1] == 2: # Leaver\n",
    "        driver.find_element(By.XPATH, \"//input[@id='custom_ticket_form_field_130_custom_ticket_form_field_130_date']\").send_keys(list[8])\n",
    "\n",
    "    else:\n",
    "        driver.find_element(By.XPATH, \"//input[@id='custom_ticket_form_field_129_custom_ticket_form_field_129_date']\").send_keys(list[8])\n",
    "\n",
    "    # 9. Submit\n",
    "    submit = driver.find_element(By.XPATH, \"//button[@class='sui-bttn-primary sui-bttn ']\")\n",
    "    submit.click()\n",
    "\n",
    "    # 10. Obtain the link\n",
    "    ticketTitle = WebDriverWait(driver, 10).until(\n",
    "        EC.presence_of_element_located((By.XPATH, \"//div[contains(@class,'builtin-block view_ticket')]//h2[1]\"))\n",
    "    )\n",
    "    ticketURL = driver.current_url\n",
    "    link = {}\n",
    "    link[ticketTitle] = ticketURL\n",
    "    return link\n",
    "    # driver.quit()"
   ]
  },
  {
   "cell_type": "code",
   "execution_count": 10,
   "metadata": {},
   "outputs": [],
   "source": [
    "def hrList_ticketTypes():\n",
    "    return [\"Starter\", \"Leaver\", \"Change department\", \"Office management\", \"Linguistic quality issues\", \"Ideas\"]\n",
    "\n",
    "def hrList_strategicGroups():\n",
    "    return [\"AVA\", \"Burberry\", \"China\", \"Games\", \"Germany\", \"LQA\", \"Nexus\", \"LTC\", \"Other\"]"
   ]
  },
  {
   "cell_type": "code",
   "execution_count": 33,
   "metadata": {},
   "outputs": [],
   "source": [
    "list = ['kchang', 1, 'ken chang', 'cambridge', 6, 'nexus', 'n', 'tw', '22-12-2023', 'n/a']\n",
    "list2 = ['kchang', 2, 'mr bean', 'cambridge', 6, 'nexus', 'n', 'tw', '22-12-2222', 'will spend all', 'n/a']\n",
    "create_hr_ticket(list)"
   ]
  },
  {
   "cell_type": "code",
   "execution_count": 17,
   "metadata": {},
   "outputs": [
    {
     "ename": "NameError",
     "evalue": "name 'driver' is not defined",
     "output_type": "error",
     "traceback": [
      "\u001b[1;31m---------------------------------------------------------------------------\u001b[0m",
      "\u001b[1;31mNameError\u001b[0m                                 Traceback (most recent call last)",
      "Cell \u001b[1;32mIn[17], line 1\u001b[0m\n\u001b[1;32m----> 1\u001b[0m driver\u001b[39m.\u001b[39mquit()\n",
      "\u001b[1;31mNameError\u001b[0m: name 'driver' is not defined"
     ]
    }
   ],
   "source": [
    "driver.quit()"
   ]
  },
  {
   "cell_type": "code",
   "execution_count": 34,
   "metadata": {},
   "outputs": [],
   "source": [
    "list = ['kchang', 1, 'ken chang', 'cambridge', 6, 'nexus', 'n', 'tw', '22-12-2023', 'n/a']"
   ]
  },
  {
   "cell_type": "code",
   "execution_count": 35,
   "metadata": {},
   "outputs": [],
   "source": [
    "# Open browser and get to HR ticket URL\n",
    "options = Options()\n",
    "# options.add_argument(\"-headless\")\n",
    "driver = webdriver.Firefox(options=options)\n",
    "driver.get(\"https://support.alphacrc.com:9676/portal/page/116-hr\")\n",
    "\n",
    "# Login\n",
    "email = create_email(list)\n",
    "driver.find_element(By.XPATH, \"//input[@label='Email:']\").send_keys(email)\n",
    "driver.find_element(By.XPATH, \"//button[@data-button-type='submit']\").click()\n",
    "\n",
    "# Start filling out ticket\n",
    "# 1. Ticket type\n",
    "ticket_types = WebDriverWait(driver, 10).until(\n",
    "    EC.presence_of_element_located((By.XPATH, \"//select[@id='custom_ticket_form_field_125']\"))\n",
    ")\n",
    "selectedType = Select(ticket_types)\n",
    "selectedType.select_by_index(list[1])\n",
    "\n",
    "# 2. Full name\n",
    "driver.find_element(By.XPATH, \"//input[@id='custom_ticket_form_field_202']\").send_keys(list[2].title())\n",
    "\n",
    "# 3. Office\n",
    "driver.find_element(By.XPATH, \"//input[@id='custom_ticket_form_field_203']\").send_keys(list[3].capitalize())\n",
    "\n",
    "# 4. Strategic group\n",
    "strategic_groups = driver.find_element(By.CSS_SELECTOR, \"select#custom_ticket_form_field_204\")\n",
    "selectedGroup = Select(strategic_groups)\n",
    "selectedGroup.select_by_index(list[4])\n",
    "\n",
    "# 5. Mail aliaes\n",
    "driver.find_element(By.XPATH, \"//input[@id='custom_ticket_form_field_240']\").send_keys(list[5])\n",
    "\n",
    "# 6. Summary\n",
    "summary = create_summary(list)\n",
    "driver.find_element(By.XPATH, \"//input[@id='custom_ticket_form_field_126']\").send_keys(summary)\n",
    "\n",
    "# 7. Description\n",
    "description = create_description(list)\n",
    "driver.find_element(By.XPATH, \"//textarea[@id='custom_ticket_form_field_127']\").send_keys(description)\n",
    "\n",
    "# 8. Date\n",
    "if list[1] == 2: # Leaver\n",
    "    driver.find_element(By.XPATH, \"//input[@id='custom_ticket_form_field_130_custom_ticket_form_field_130_date']\").send_keys(list[8])\n",
    "\n",
    "else:\n",
    "    driver.find_element(By.XPATH, \"//input[@id='custom_ticket_form_field_129_custom_ticket_form_field_129_date']\").send_keys(list[8])\n"
   ]
  },
  {
   "cell_type": "code",
   "execution_count": 36,
   "metadata": {},
   "outputs": [],
   "source": [
    "# 9. Submit\n",
    "submit = driver.find_element(By.XPATH, \"//button[@class='sui-bttn-primary sui-bttn ']\")\n",
    "submit.click()\n",
    "\n",
    "# 10. Obtain the link\n",
    "ticketTitle = WebDriverWait(driver, 10).until(\n",
    "    EC.presence_of_element_located((By.XPATH, \"//div[contains(@class,'builtin-block view_ticket')]//h2[1]\"))\n",
    ")\n",
    "ticketURL = driver.current_url\n",
    "link = {}\n"
   ]
  },
  {
   "cell_type": "code",
   "execution_count": 38,
   "metadata": {},
   "outputs": [
    {
     "name": "stdout",
     "output_type": "stream",
     "text": [
      "{<selenium.webdriver.remote.webelement.WebElement (session=\"722bc387-46b2-468d-859a-c0744b97720a\", element=\"7ea8e7fb-953c-44f8-81c9-c8a8221137bb\")>: 'https://support.alphacrc.com:9676/portal/view-help-request/47016', 'Ticket #47016: <AI TESTING TICKET, PLEASE IGNORE>: Starter - Ken Chang - 22-12-2023 - N - Cambridge': 'https://support.alphacrc.com:9676/portal/view-help-request/47016'}\n"
     ]
    }
   ],
   "source": [
    "link[ticketTitle.text] = ticketURL\n",
    "print(link)"
   ]
  },
  {
   "cell_type": "code",
   "execution_count": 39,
   "metadata": {},
   "outputs": [
    {
     "name": "stdout",
     "output_type": "stream",
     "text": [
      "{<selenium.webdriver.remote.webelement.WebElement (session=\"722bc387-46b2-468d-859a-c0744b97720a\", element=\"7ea8e7fb-953c-44f8-81c9-c8a8221137bb\")>: 'https://support.alphacrc.com:9676/portal/view-help-request/47016', 'Ticket #47016: <AI TESTING TICKET, PLEASE IGNORE>: Starter - Ken Chang - 22-12-2023 - N - Cambridge': 'https://support.alphacrc.com:9676/portal/view-help-request/47016'}\n"
     ]
    }
   ],
   "source": [
    "print(link)"
   ]
  },
  {
   "cell_type": "code",
   "execution_count": null,
   "metadata": {},
   "outputs": [],
   "source": []
  }
 ],
 "metadata": {
  "kernelspec": {
   "display_name": "venv",
   "language": "python",
   "name": "python3"
  },
  "language_info": {
   "codemirror_mode": {
    "name": "ipython",
    "version": 3
   },
   "file_extension": ".py",
   "mimetype": "text/x-python",
   "name": "python",
   "nbconvert_exporter": "python",
   "pygments_lexer": "ipython3",
   "version": "3.11.1"
  },
  "orig_nbformat": 4
 },
 "nbformat": 4,
 "nbformat_minor": 2
}
