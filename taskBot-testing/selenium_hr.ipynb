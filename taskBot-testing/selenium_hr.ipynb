{
 "cells": [
  {
   "cell_type": "code",
   "execution_count": 45,
   "metadata": {},
   "outputs": [],
   "source": [
    "from selenium import webdriver\n",
    "from selenium.webdriver.firefox.options import Options\n",
    "from selenium.webdriver.common.by import By\n",
    "from selenium.webdriver.support.select import Select\n",
    "from selenium.webdriver.support.ui import WebDriverWait\n",
    "from selenium.webdriver.support import expected_conditions as EC"
   ]
  },
  {
   "cell_type": "code",
   "execution_count": 52,
   "metadata": {},
   "outputs": [],
   "source": [
    "options = Options()\n",
    "# options.add_argument(\"-headless\")\n",
    "driver = webdriver.Chrome(options=options)\n",
    "driver.get(\"https://support.alphacrc.com:9676/portal/page/116-hr\")"
   ]
  },
  {
   "cell_type": "code",
   "execution_count": 53,
   "metadata": {},
   "outputs": [],
   "source": [
    "email = \"kchang@thisisalpha.com\"\n",
    "driver.find_element(By.XPATH, \"//input[@label='Email:']\").send_keys(email)\n",
    "driver.find_element(By.XPATH, \"//button[@data-button-type='submit']\").click()"
   ]
  },
  {
   "cell_type": "code",
   "execution_count": 54,
   "metadata": {},
   "outputs": [],
   "source": [
    "# Select the first dropdown menu\n",
    "# ticket_types = driver.find_element(By.CSS_SELECTOR, \"select#custom_ticket_form_field_125\")\n",
    "ticket_types = WebDriverWait(driver, 10).until(\n",
    "        EC.presence_of_element_located((By.CSS_SELECTOR, \"select#custom_ticket_form_field_125\"))\n",
    "    )\n",
    "selectedType = Select(ticket_types)\n",
    "selectedType.select_by_index(1)"
   ]
  },
  {
   "cell_type": "code",
   "execution_count": 50,
   "metadata": {},
   "outputs": [
    {
     "name": "stdout",
     "output_type": "stream",
     "text": [
      "\n",
      "Starter\n",
      "Leaver\n",
      "Change department\n",
      "Office Management\n",
      "Linguistic Quality Issues\n",
      "Ideas\n"
     ]
    }
   ],
   "source": [
    "# just testing, don't need to run\n",
    "for items in selectedType.options:\n",
    "    print(items.text)"
   ]
  },
  {
   "cell_type": "code",
   "execution_count": 60,
   "metadata": {},
   "outputs": [],
   "source": [
    "driver.find_element(By.XPATH, \"//input[@id='custom_ticket_form_field_202']\").send_keys(\"John Doe\")\n",
    "driver.find_element(By.XPATH, \"//input[@id='custom_ticket_form_field_203']\").send_keys(\"Cambridge\")\n",
    "strategic_groups = driver.find_element(By.CSS_SELECTOR, \"select#custom_ticket_form_field_204\")\n",
    "selectedGroup = Select(strategic_groups)\n",
    "selectedGroup.select_by_index(1)\n",
    "driver.find_element(By.XPATH, \"//input[@id='custom_ticket_form_field_240']\").send_keys(\"n/a\")\n",
    "driver.find_element(By.XPATH, \"//input[@id='custom_ticket_form_field_126']\").send_keys(\"summary\")\n",
    "driver.find_element(By.XPATH, \"//textarea[@id='custom_ticket_form_field_127']\").send_keys(\"description\")\n",
    "driver.find_element(By.XPATH, \"//input[@id='custom_ticket_form_field_129_custom_ticket_form_field_129_date']\").send_keys(\"18-07-2023\")"
   ]
  },
  {
   "cell_type": "code",
   "execution_count": null,
   "metadata": {},
   "outputs": [],
   "source": []
  },
  {
   "cell_type": "code",
   "execution_count": 61,
   "metadata": {},
   "outputs": [],
   "source": [
    "driver.quit()"
   ]
  },
  {
   "cell_type": "code",
   "execution_count": 70,
   "metadata": {},
   "outputs": [
    {
     "name": "stdout",
     "output_type": "stream",
     "text": [
      "leaver\n"
     ]
    }
   ],
   "source": [
    "def hr_type_list():\n",
    "    return [\"\", \"Starter\", \"Leaver\", \"Change department\", \"Office management\", \"Linguistic quality issues\", \"Ideas\"]\n",
    "\n",
    "item = hr_type_list()\n",
    "\n",
    "print(hr_type_list()[2].lower())"
   ]
  },
  {
   "cell_type": "code",
   "execution_count": null,
   "metadata": {},
   "outputs": [],
   "source": []
  }
 ],
 "metadata": {
  "kernelspec": {
   "display_name": "venv",
   "language": "python",
   "name": "python3"
  },
  "language_info": {
   "codemirror_mode": {
    "name": "ipython",
    "version": 3
   },
   "file_extension": ".py",
   "mimetype": "text/x-python",
   "name": "python",
   "nbconvert_exporter": "python",
   "pygments_lexer": "ipython3",
   "version": "3.11.1"
  },
  "orig_nbformat": 4
 },
 "nbformat": 4,
 "nbformat_minor": 2
}
